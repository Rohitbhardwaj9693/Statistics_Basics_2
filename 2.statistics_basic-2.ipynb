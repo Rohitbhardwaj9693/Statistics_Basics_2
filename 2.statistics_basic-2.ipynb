{
 "cells": [
  {
   "cell_type": "code",
   "execution_count": 1,
   "id": "126e8041-4678-4668-9467-ca9cbbd019c9",
   "metadata": {},
   "outputs": [],
   "source": [
    "                                   # Name-: Rohit Bhardwaj                               \n",
    "                                 # Batch-: Data science Master\n",
    "                                 # Asssignment :- Statistics Basic2\n",
    "\n",
    "\n",
    "\n",
    "\n",
    "# Q1. What are the three measures of central tendency?\n",
    "\n",
    "# Mean or average\n",
    "# Median\n",
    "# Mode"
   ]
  },
  {
   "cell_type": "code",
   "execution_count": 3,
   "id": "f3fc40fc-2c6f-4180-8c4c-5a7c66e1af89",
   "metadata": {},
   "outputs": [
    {
     "data": {
      "text/html": [
       "<div>\n",
       "<style scoped>\n",
       "    .dataframe tbody tr th:only-of-type {\n",
       "        vertical-align: middle;\n",
       "    }\n",
       "\n",
       "    .dataframe tbody tr th {\n",
       "        vertical-align: top;\n",
       "    }\n",
       "\n",
       "    .dataframe thead th {\n",
       "        text-align: right;\n",
       "    }\n",
       "</style>\n",
       "<table border=\"1\" class=\"dataframe\">\n",
       "  <thead>\n",
       "    <tr style=\"text-align: right;\">\n",
       "      <th></th>\n",
       "      <th>total_bill</th>\n",
       "      <th>tip</th>\n",
       "      <th>sex</th>\n",
       "      <th>smoker</th>\n",
       "      <th>day</th>\n",
       "      <th>time</th>\n",
       "      <th>size</th>\n",
       "    </tr>\n",
       "  </thead>\n",
       "  <tbody>\n",
       "    <tr>\n",
       "      <th>0</th>\n",
       "      <td>16.99</td>\n",
       "      <td>1.01</td>\n",
       "      <td>Female</td>\n",
       "      <td>No</td>\n",
       "      <td>Sun</td>\n",
       "      <td>Dinner</td>\n",
       "      <td>2</td>\n",
       "    </tr>\n",
       "    <tr>\n",
       "      <th>1</th>\n",
       "      <td>10.34</td>\n",
       "      <td>1.66</td>\n",
       "      <td>Male</td>\n",
       "      <td>No</td>\n",
       "      <td>Sun</td>\n",
       "      <td>Dinner</td>\n",
       "      <td>3</td>\n",
       "    </tr>\n",
       "    <tr>\n",
       "      <th>2</th>\n",
       "      <td>21.01</td>\n",
       "      <td>3.50</td>\n",
       "      <td>Male</td>\n",
       "      <td>No</td>\n",
       "      <td>Sun</td>\n",
       "      <td>Dinner</td>\n",
       "      <td>3</td>\n",
       "    </tr>\n",
       "    <tr>\n",
       "      <th>3</th>\n",
       "      <td>23.68</td>\n",
       "      <td>3.31</td>\n",
       "      <td>Male</td>\n",
       "      <td>No</td>\n",
       "      <td>Sun</td>\n",
       "      <td>Dinner</td>\n",
       "      <td>2</td>\n",
       "    </tr>\n",
       "    <tr>\n",
       "      <th>4</th>\n",
       "      <td>24.59</td>\n",
       "      <td>3.61</td>\n",
       "      <td>Female</td>\n",
       "      <td>No</td>\n",
       "      <td>Sun</td>\n",
       "      <td>Dinner</td>\n",
       "      <td>4</td>\n",
       "    </tr>\n",
       "  </tbody>\n",
       "</table>\n",
       "</div>"
      ],
      "text/plain": [
       "   total_bill   tip     sex smoker  day    time  size\n",
       "0       16.99  1.01  Female     No  Sun  Dinner     2\n",
       "1       10.34  1.66    Male     No  Sun  Dinner     3\n",
       "2       21.01  3.50    Male     No  Sun  Dinner     3\n",
       "3       23.68  3.31    Male     No  Sun  Dinner     2\n",
       "4       24.59  3.61  Female     No  Sun  Dinner     4"
      ]
     },
     "execution_count": 3,
     "metadata": {},
     "output_type": "execute_result"
    }
   ],
   "source": [
    "# Q2. What is the difference between the mean, median, and mode? How are they used to measure the\n",
    "# central tendency of a dataset?\n",
    "\n",
    "# The difference between mean, median and mode are: Mean is the average \n",
    "# value of the given observations. Median is the middle value of the\n",
    "# given observations. Mode is the most repeated value in the given\n",
    "# observation\n",
    "\n",
    "import seaborn as sns\n",
    "df = sns.load_dataset('tips')\n",
    "df.head()"
   ]
  },
  {
   "cell_type": "code",
   "execution_count": 8,
   "id": "4f74c4bc-6525-4c80-87a9-28cb1d9fdc29",
   "metadata": {},
   "outputs": [
    {
     "data": {
      "text/plain": [
       "19.78594262295082"
      ]
     },
     "execution_count": 8,
     "metadata": {},
     "output_type": "execute_result"
    }
   ],
   "source": [
    "df['total_bill'].mean()"
   ]
  },
  {
   "cell_type": "code",
   "execution_count": 9,
   "id": "4b58c66c-dac7-4eb2-a54e-23b747737512",
   "metadata": {},
   "outputs": [
    {
     "data": {
      "text/plain": [
       "17.795"
      ]
     },
     "execution_count": 9,
     "metadata": {},
     "output_type": "execute_result"
    }
   ],
   "source": [
    "df['total_bill'].median()"
   ]
  },
  {
   "cell_type": "code",
   "execution_count": 10,
   "id": "8411a416-8353-4428-9b6f-6bf318ab9eed",
   "metadata": {},
   "outputs": [
    {
     "data": {
      "text/plain": [
       "0    13.42\n",
       "Name: total_bill, dtype: float64"
      ]
     },
     "execution_count": 10,
     "metadata": {},
     "output_type": "execute_result"
    }
   ],
   "source": [
    "df['total_bill'].mode()"
   ]
  },
  {
   "cell_type": "code",
   "execution_count": 13,
   "id": "0cbc2c47-ec7f-453d-a61b-44d60139eb83",
   "metadata": {},
   "outputs": [
    {
     "data": {
      "text/plain": [
       "177.01875"
      ]
     },
     "execution_count": 13,
     "metadata": {},
     "output_type": "execute_result"
    }
   ],
   "source": [
    "# Q3. Measure the three measures of central tendency for the given height data:\n",
    "# [178,177,176,177,178.2,178,175,179,180,175,178.9,176.2,177,172.5,178,176.5]\n",
    "\n",
    "\n",
    "# Mean (Average):\n",
    "# To calculate the mean, add up all the values and then divide by the number of values in the dataset.\n",
    "\n",
    "Mean = (178 + 177 + 176 + 177 + 178.2 + 178 + 175 + 179 + 180 + 175 + 178.9 + 176.2 + 177 + 172.5 + 178 + 176.5) / 16\n",
    "Mean"
   ]
  },
  {
   "cell_type": "code",
   "execution_count": 27,
   "id": "39f60552-0028-48ce-8538-107a00ed4ee8",
   "metadata": {},
   "outputs": [
    {
     "name": "stdout",
     "output_type": "stream",
     "text": [
      "Object `Sorted data = [172.5, 175, 175, 176, 176, 176.2, 177, 177, 177, 178, 178, 178, 178, 178.2,179, 180]` not found.\n"
     ]
    },
    {
     "data": {
      "text/plain": [
       "177.0"
      ]
     },
     "execution_count": 27,
     "metadata": {},
     "output_type": "execute_result"
    }
   ],
   "source": [
    "# Median (Middle Value):\n",
    "# To calculate the median, first, you need to arrange the data in ascending order and then find the middle value. If there's an even number of data points, take the average of the two middle values.\n",
    "\n",
    "?Sorted data = [172.5, 175, 175, 176, 176, 176.2, 177, 177, 177, 178, 178, 178, 178, 178.2,179, 180]\n",
    "\n",
    "# Since there are 16 data points (an even number), the median is the average of the 8th and 9th values.\n",
    "\n",
    "Median = (177 + 177) / 2\n",
    "Median"
   ]
  },
  {
   "cell_type": "code",
   "execution_count": 28,
   "id": "8dfcbf26-4575-4bb5-b76f-c5cfef56c3da",
   "metadata": {},
   "outputs": [],
   "source": [
    "# Mode (Most Common Value):\n",
    "# The mode is the value that appears most frequently in the dataset.\n",
    "\n",
    "# Mode = 178 (because it appears the most times, five times)\n",
    "\n",
    "# So, the three measures of central tendency for the given height data are:\n",
    "\n",
    "# Mean ≈ 177.7625\n",
    "# Median = 177\n",
    "# Mode = 178\n",
    "\n",
    "\n",
    "\n"
   ]
  },
  {
   "cell_type": "code",
   "execution_count": 29,
   "id": "e50b766e-72d6-4d88-9381-a8095d4000a2",
   "metadata": {},
   "outputs": [],
   "source": [
    "# Q4. Find the standard deviation for the given data:\n",
    "# [178,177,176,177,178.2,178,175,179,180,175,178.9,176.2,177,172.5,178,176.5]"
   ]
  },
  {
   "cell_type": "code",
   "execution_count": null,
   "id": "6b3bdd4f-71b0-4cfe-a811-c55f9a47c1fa",
   "metadata": {},
   "outputs": [],
   "source": []
  },
  {
   "cell_type": "code",
   "execution_count": 30,
   "id": "d7bc1d85-d878-4c09-be46-b619fec3785e",
   "metadata": {},
   "outputs": [],
   "source": [
    "# Q6. What is a Venn diagram?\n",
    "\n",
    "# A Venn diagram is a graphical representation used to show the relationship \n",
    "# between sets or groups of items. It is composed of overlapping circles or \n",
    "# ellipses, each representing a different set, and the overlapping regions\n",
    "# represent the elements that are common to those sets\n",
    "\n",
    "# Venn diagrams are widely used in mathematics, logic, statistics, and \n",
    "# various fields to illustrate the concepts of set theory and to visually\n",
    "# compare and contrast different groups or categories of items."
   ]
  },
  {
   "cell_type": "code",
   "execution_count": null,
   "id": "e599c125-070c-4a00-a1e8-98b358a22066",
   "metadata": {},
   "outputs": [],
   "source": []
  },
  {
   "cell_type": "code",
   "execution_count": 31,
   "id": "d1b9fc14-f434-47b2-91a8-36badef9aa9d",
   "metadata": {},
   "outputs": [],
   "source": [
    "# Q7. For the two given sets A = (2,3,4,5,6,7) & B = (0,2,6,8,10). Find:\n",
    "# (i) A n  B\n",
    "# (ii) A ⋃ B\n",
    "\n",
    "# A intersection B = {2,6}\n",
    "# A union B = {0,2,3,4,5,6,7,8,10}"
   ]
  },
  {
   "cell_type": "code",
   "execution_count": null,
   "id": "fdc8aa5f-184b-44f2-984e-8c23df1f4e12",
   "metadata": {},
   "outputs": [],
   "source": []
  },
  {
   "cell_type": "code",
   "execution_count": 32,
   "id": "423f2c42-b1e3-4b19-b76d-38ee37178615",
   "metadata": {},
   "outputs": [],
   "source": [
    "# Q8. What do you understand about skewness in data?\n",
    "\n",
    "\n",
    "# There are three main types of skewness:\n",
    "    \n",
    "#     Positive Skew (Right-skewed): In a positively skewed distribution, the \n",
    "#     tail on the right-hand side (the upper tail) is longer or fatter than \n",
    "#     the left-hand side (the lower tail)\n",
    "    \n",
    "#      This means that the majority of the data points are concentrated on\n",
    "\n",
    "#     the left side of the distribution, and there are a few extremely high\n",
    "#     values that pull the mean to the right. \n",
    "    \n",
    "    \n",
    "#     Negative Skew (Left-skewed): In a negatively skewed distribution,\n",
    "#     the tail on the left-hand side (the lower tail) is longer or fatter\n",
    "#     than the right-hand side (the upper tail). \n",
    "    \n",
    "    \n",
    "    \n",
    "#     This means that the majority of the data points are concentrated on\n",
    "#     the right side of the distribution, and there are a few extremely low\n",
    "#     values that pull the mean to the left."
   ]
  },
  {
   "cell_type": "code",
   "execution_count": null,
   "id": "fce78bd2-1a0b-444a-870d-bb27c4356136",
   "metadata": {},
   "outputs": [],
   "source": []
  },
  {
   "cell_type": "code",
   "execution_count": 33,
   "id": "35d378d2-7e18-42f5-b6e9-87a56f10e461",
   "metadata": {},
   "outputs": [],
   "source": [
    "# Q9. If a data is right skewed then what will be the position of median with respect to mean?\n",
    "\n",
    "# Median: The median is the middle value of the dataset when it is ordered \n",
    "# from lowest to highest. Since there are more data points with lower values\n",
    "# on the left side of the distribution, the median is pulled in that direction.\n",
    "\n",
    "# median is typically less than the mean, and the median is located to the \n",
    "# left of the mean along the number line."
   ]
  },
  {
   "cell_type": "code",
   "execution_count": 34,
   "id": "c614fa67-2cbc-4d7c-9033-ba6471f4eeb6",
   "metadata": {},
   "outputs": [
    {
     "name": "stderr",
     "output_type": "stream",
     "text": [
      "/tmp/ipykernel_95/718632044.py:17: FutureWarning: The default value of numeric_only in DataFrame.corr is deprecated. In a future version, it will default to False. Select only valid columns or specify the value of numeric_only to silence this warning.\n",
      "  df.corr()\n"
     ]
    },
    {
     "data": {
      "text/html": [
       "<div>\n",
       "<style scoped>\n",
       "    .dataframe tbody tr th:only-of-type {\n",
       "        vertical-align: middle;\n",
       "    }\n",
       "\n",
       "    .dataframe tbody tr th {\n",
       "        vertical-align: top;\n",
       "    }\n",
       "\n",
       "    .dataframe thead th {\n",
       "        text-align: right;\n",
       "    }\n",
       "</style>\n",
       "<table border=\"1\" class=\"dataframe\">\n",
       "  <thead>\n",
       "    <tr style=\"text-align: right;\">\n",
       "      <th></th>\n",
       "      <th>total_bill</th>\n",
       "      <th>tip</th>\n",
       "      <th>size</th>\n",
       "    </tr>\n",
       "  </thead>\n",
       "  <tbody>\n",
       "    <tr>\n",
       "      <th>total_bill</th>\n",
       "      <td>1.000000</td>\n",
       "      <td>0.675734</td>\n",
       "      <td>0.598315</td>\n",
       "    </tr>\n",
       "    <tr>\n",
       "      <th>tip</th>\n",
       "      <td>0.675734</td>\n",
       "      <td>1.000000</td>\n",
       "      <td>0.489299</td>\n",
       "    </tr>\n",
       "    <tr>\n",
       "      <th>size</th>\n",
       "      <td>0.598315</td>\n",
       "      <td>0.489299</td>\n",
       "      <td>1.000000</td>\n",
       "    </tr>\n",
       "  </tbody>\n",
       "</table>\n",
       "</div>"
      ],
      "text/plain": [
       "            total_bill       tip      size\n",
       "total_bill    1.000000  0.675734  0.598315\n",
       "tip           0.675734  1.000000  0.489299\n",
       "size          0.598315  0.489299  1.000000"
      ]
     },
     "execution_count": 34,
     "metadata": {},
     "output_type": "execute_result"
    }
   ],
   "source": [
    "# Q10. Explain the difference between covariance and correlation. How are these measures used in\n",
    "# statistical analysis?\n",
    "\n",
    "# Covariance:\n",
    "# Definition:\n",
    "# Covariance measures the direction and magnitude of the linear relationship\n",
    "# between two variables. It indicates whether the variables change together \n",
    "# (positive covariance) or in opposite directions (negative covariance).\n",
    "\n",
    "# Correlation:\n",
    "# Definition:\n",
    "# Correlation measures the strength and direction of a linear relationship\n",
    "# between two variables. It is a standardized measure, always ranging between\n",
    "# -1 and 1, allowing for easier interpretation and comparison.\n",
    "\n",
    "\n",
    "df.corr()"
   ]
  },
  {
   "cell_type": "code",
   "execution_count": 35,
   "id": "1483f2f4-78fe-4a3e-b728-f96b152f1caa",
   "metadata": {},
   "outputs": [
    {
     "name": "stderr",
     "output_type": "stream",
     "text": [
      "/tmp/ipykernel_95/1545644723.py:1: FutureWarning: The default value of numeric_only in DataFrame.cov is deprecated. In a future version, it will default to False. Select only valid columns or specify the value of numeric_only to silence this warning.\n",
      "  df.cov()\n"
     ]
    },
    {
     "data": {
      "text/html": [
       "<div>\n",
       "<style scoped>\n",
       "    .dataframe tbody tr th:only-of-type {\n",
       "        vertical-align: middle;\n",
       "    }\n",
       "\n",
       "    .dataframe tbody tr th {\n",
       "        vertical-align: top;\n",
       "    }\n",
       "\n",
       "    .dataframe thead th {\n",
       "        text-align: right;\n",
       "    }\n",
       "</style>\n",
       "<table border=\"1\" class=\"dataframe\">\n",
       "  <thead>\n",
       "    <tr style=\"text-align: right;\">\n",
       "      <th></th>\n",
       "      <th>total_bill</th>\n",
       "      <th>tip</th>\n",
       "      <th>size</th>\n",
       "    </tr>\n",
       "  </thead>\n",
       "  <tbody>\n",
       "    <tr>\n",
       "      <th>total_bill</th>\n",
       "      <td>79.252939</td>\n",
       "      <td>8.323502</td>\n",
       "      <td>5.065983</td>\n",
       "    </tr>\n",
       "    <tr>\n",
       "      <th>tip</th>\n",
       "      <td>8.323502</td>\n",
       "      <td>1.914455</td>\n",
       "      <td>0.643906</td>\n",
       "    </tr>\n",
       "    <tr>\n",
       "      <th>size</th>\n",
       "      <td>5.065983</td>\n",
       "      <td>0.643906</td>\n",
       "      <td>0.904591</td>\n",
       "    </tr>\n",
       "  </tbody>\n",
       "</table>\n",
       "</div>"
      ],
      "text/plain": [
       "            total_bill       tip      size\n",
       "total_bill   79.252939  8.323502  5.065983\n",
       "tip           8.323502  1.914455  0.643906\n",
       "size          5.065983  0.643906  0.904591"
      ]
     },
     "execution_count": 35,
     "metadata": {},
     "output_type": "execute_result"
    }
   ],
   "source": [
    "df.cov()"
   ]
  },
  {
   "cell_type": "code",
   "execution_count": 36,
   "id": "ed714fdd-eb7e-4c1a-a6c0-445d0e1c3fc9",
   "metadata": {},
   "outputs": [],
   "source": [
    "# Q11. What is the formula for calculating the sample mean? Provide an example calculation for a\n",
    "# dataset.\n",
    "\n",
    "# The formula for calculating the sample mean (also known as the average)\n",
    "\n",
    "# X \n",
    "# is the sample mean.\n",
    "\n",
    "# # Dataset:{85,92,78,88,95,89,76,90,82,94}\n",
    "\n",
    "\n",
    "# Add up all the data points:\n",
    "#  sample mean =    85+92+78+88+95+89+76+90+82+94=879\n",
    "# n =10\n",
    "# x bar  = 897/10\n",
    "# = 87.9\n",
    "# the sample mean (average) score for the 10 students on the math test is 87.9."
   ]
  },
  {
   "cell_type": "code",
   "execution_count": null,
   "id": "e2661c1d-d2ae-45ae-b87e-147a585959e1",
   "metadata": {},
   "outputs": [],
   "source": []
  },
  {
   "cell_type": "code",
   "execution_count": 37,
   "id": "f2cef368-24d9-453b-aec0-6270c77c4e61",
   "metadata": {},
   "outputs": [],
   "source": [
    "# Q12. For a normal distribution data what is the relationship between its \n",
    "# measure of central tendency?\n",
    "\n",
    "\n",
    "# In a normal distribution (also known as a Gaussian distribution or bell curve),\n",
    "# there is a specific and well-defined relationship between its measures of \n",
    "# central tendency, which include the mean, median, and mod\n",
    "\n",
    "# Mean (μ): In a normal distribution, the mean is located at the center of \n",
    "# the distribution, and it is equal to the median and mode\n",
    "\n",
    "# Median (Median): The median of a normal distribution is equal to the mean\n",
    "\n",
    "\n",
    "# Mode (Mode): The mode of a normal distribution is also equal to the mean \n",
    "# and the median."
   ]
  },
  {
   "cell_type": "code",
   "execution_count": null,
   "id": "87e566a1-91f4-41ed-9277-e11d16cd6eef",
   "metadata": {},
   "outputs": [],
   "source": []
  },
  {
   "cell_type": "code",
   "execution_count": 38,
   "id": "6e2ee554-6478-4158-b28b-cce0d995b98a",
   "metadata": {},
   "outputs": [],
   "source": [
    "# Q13. How is covariance different from correlation?\n",
    "\n",
    " # while covariance and correlation both describe the relationship between\n",
    " #    two variables, correlation is often preferred in practice due to its\n",
    " #    standardization, making it easier to interpret and compare. Covariance,\n",
    " #    on the other hand, can be useful when you want to understand the direction\n",
    " #    of the relationship but is less interpretable when it comes to the strength\n",
    " #    of the relationship."
   ]
  },
  {
   "cell_type": "code",
   "execution_count": null,
   "id": "4c1d566d-de92-4def-aa25-da65dd65da7e",
   "metadata": {},
   "outputs": [],
   "source": []
  },
  {
   "cell_type": "code",
   "execution_count": null,
   "id": "40aa3654-a4f6-4a16-9358-7c256487b27d",
   "metadata": {},
   "outputs": [],
   "source": [
    "# Q14. How do outliers affect measures of central tendency and dispersion? Provide an example.\n",
    "\n",
    "\n",
    "\n",
    "# Mean (Average):\n",
    "\n",
    "# Outliers can have a substantial impact on the mean because the mean is\n",
    "# sensitive to extreme values.\n",
    "# A single outlier with an extremely high or low value can significantly \n",
    "# pull the mean in the direction of the outlier.\n",
    "# For example, consider a dataset of salaries where most employees earn \n",
    "# around $50,000 per year, but one CEO earns $5,000,000 per year. The mean \n",
    "# salary is greatly influenced by the CEO's outlier value.\n",
    "# Median:\n",
    "\n",
    "# The median is less affected by outliers because it is the middle value\n",
    "# when the data is sorted.\n",
    "# Outliers do not alter the median as long as they are not numerous enough \n",
    "# to change the position of the middle value.\n",
    "# In the example mentioned earlier, the median salary would remain close to \n",
    "# $50,000 because the CEO's salary does not affect its position in the sorted data.\n",
    "# Mode:\n",
    "\n",
    "# The mode is generally not affected by outliers unless the outliers become\n",
    "# the most frequently occurring values in the dataset.\n",
    "# In most cases, a single or a few outliers will not impact the mode"
   ]
  }
 ],
 "metadata": {
  "kernelspec": {
   "display_name": "Python 3 (ipykernel)",
   "language": "python",
   "name": "python3"
  },
  "language_info": {
   "codemirror_mode": {
    "name": "ipython",
    "version": 3
   },
   "file_extension": ".py",
   "mimetype": "text/x-python",
   "name": "python",
   "nbconvert_exporter": "python",
   "pygments_lexer": "ipython3",
   "version": "3.10.8"
  }
 },
 "nbformat": 4,
 "nbformat_minor": 5
}
